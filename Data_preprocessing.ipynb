{
  "cells": [
    {
      "cell_type": "code",
      "execution_count": null,
      "metadata": {
        "id": "dH_C1AQbOdf9"
      },
      "outputs": [],
      "source": [
        "import pandas as pd\n",
        "import numpy as np"
      ]
    },
    {
      "cell_type": "code",
      "execution_count": null,
      "metadata": {
        "id": "H6lDB8Y2azWc"
      },
      "outputs": [],
      "source": [
        "data=pd.read_csv('/content/drive/MyDrive/NLP_amazon/train_cleaned.csv',header=None)"
      ]
    },
    {
      "cell_type": "code",
      "execution_count": null,
      "metadata": {
        "id": "3Z811XRBbB3E"
      },
      "outputs": [],
      "source": [
        "data.drop([1],inplace=True,axis=1)"
      ]
    },
    {
      "cell_type": "code",
      "execution_count": null,
      "metadata": {
        "id": "54J-GmObbS8f"
      },
      "outputs": [],
      "source": [
        "data.columns=['Polarity','Text']"
      ]
    },
    {
      "cell_type": "code",
      "execution_count": null,
      "metadata": {
        "id": "NRk2fPgPbfkg"
      },
      "outputs": [],
      "source": [
        "def create_polarity(x):\n",
        "  if x==2:\n",
        "    return 1\n",
        "  return 0\n",
        "\n",
        "data['Polarity']=data['Polarity'].apply(create_polarity)"
      ]
    },
    {
      "cell_type": "code",
      "execution_count": null,
      "metadata": {
        "id": "M-EtYDVRcHjy"
      },
      "outputs": [],
      "source": [
        "def get_len(x):\n",
        "  return len(x.split(' '))"
      ]
    },
    {
      "cell_type": "code",
      "execution_count": null,
      "metadata": {
        "id": "ul8Zs2VMdAaV"
      },
      "outputs": [],
      "source": [
        "import re\n",
        "from nltk.corpus import stopwords\n",
        "from nltk.tokenize import word_tokenize\n",
        "\n",
        "\n",
        "\n",
        "def sortclean(text):\n",
        "    \n",
        "    text = re.sub(r\"i'm\", \"i am\", text)\n",
        "    text = re.sub(r\"we're\", \"we are\", text)\n",
        "    text = re.sub(r\"i'd\", \"i would\", text)\n",
        "    text = re.sub(r\"he's\", \"he is\", text)\n",
        "    text = re.sub(r\"she's\", \"she is\", text)\n",
        "    text = re.sub(r\"it's\", \"it is\", text)\n",
        "    text = re.sub(r\"that's\", \"that is\", text)\n",
        "    text = re.sub(r\"what's\", \"what is\", text)\n",
        "    text = re.sub(r\"where's\", \"where is\", text)\n",
        "    text = re.sub(r\"how's\", \"how is\", text)\n",
        "    text = re.sub(r\"'ll\", \" will\", text)\n",
        "    text = re.sub(r\"'ve\", \" have\", text)\n",
        "    text = re.sub(r\"'re\", \" are\", text)\n",
        "    text = re.sub(r\"[-()#/@;:<>{}`+=~|.!?,]\", \"\", text)\n",
        "\n",
        "    return text\n",
        "import string\n",
        "\n",
        "\n",
        "def remove_URL(text):\n",
        "    url = re.compile(r'https?://\\S+|www\\.\\S+')\n",
        "    return url.sub(r'',text)\n",
        "\n",
        "\n",
        "def remove_html(text):\n",
        "    html=re.compile(r'<.*?>')\n",
        "    return html.sub(r'',text)\n",
        "def remove_emoji(text):\n",
        "    emoji_pattern = re.compile(\"[\"\n",
        "                           u\"\\U0001F600-\\U0001F64F\"  # emoticons\n",
        "                           u\"\\U0001F300-\\U0001F5FF\"  # symbols & pictographs\n",
        "                           u\"\\U0001F680-\\U0001F6FF\"  # transport & map symbols\n",
        "                           u\"\\U0001F1E0-\\U0001F1FF\"  # flags (iOS)\n",
        "                           u\"\\U00002702-\\U000027B0\"\n",
        "                           u\"\\U000024C2-\\U0001F251\"\n",
        "                           \"]+\", flags=re.UNICODE)\n",
        "    return emoji_pattern.sub(r'', text)\n",
        "\n",
        "\n",
        "def remove_punct(text):\n",
        "    exclude = set(string.punctuation)\n",
        "    s = ''.join(ch for ch in text if ch not in exclude)\n",
        "    return s\n",
        "def remove_newlinechar(text):\n",
        "    return text.replace('newlinechar','')\n",
        "\n",
        "\n",
        "def clean_df(text):\n",
        "\n",
        "  text = text.apply(lambda x : x.lower())\n",
        "  text=text.apply(lambda x : remove_URL(x))    \n",
        "  text=text.apply(lambda x: sortclean(x))\n",
        "\n",
        "\n",
        "  \n",
        "\n",
        "  text=text.apply(lambda x: remove_emoji(x))\n",
        "      \n",
        "  text=text.apply(lambda x : remove_html(x))\n",
        "\n",
        "  text=text.apply(lambda x : remove_punct(x))\n",
        "\n",
        "  text=text.apply(lambda x : remove_newlinechar(x))\n",
        "\n",
        "  text=text.replace('\\s+', ' ', regex=True)\n",
        "\n",
        "  return text\n"
      ]
    },
    {
      "cell_type": "code",
      "execution_count": null,
      "metadata": {
        "id": "UV7rp69teYLO"
      },
      "outputs": [],
      "source": [
        "data['cleaned']=clean_df(data['Text'])"
      ]
    },
    {
      "cell_type": "code",
      "execution_count": null,
      "metadata": {
        "id": "0Rqa-XPsbr06"
      },
      "outputs": [],
      "source": [
        "data['Length']=data['cleaned'].apply(get_len)"
      ]
    },
    {
      "cell_type": "code",
      "execution_count": null,
      "metadata": {
        "id": "96MZUDvWgUDu"
      },
      "outputs": [],
      "source": [
        "data.drop('Text',axis=1,inplace=True)"
      ]
    },
    {
      "cell_type": "code",
      "source": [
        "data.head()"
      ],
      "metadata": {
        "colab": {
          "base_uri": "https://localhost:8080/",
          "height": 206
        },
        "id": "xUerckKNwsMN",
        "outputId": "7db8fdce-c21e-4281-abc1-59c293a92ba3"
      },
      "execution_count": null,
      "outputs": [
        {
          "output_type": "execute_result",
          "data": {
            "text/plain": [
              "   Polarity                                            cleaned  Length\n",
              "0         1  this sound track was beautiful it paints the s...      75\n",
              "1         1  i am reading a lot of reviews saying that this...      94\n",
              "2         1  this soundtrack is my favorite music of all ti...     129\n",
              "3         1  i truly like this soundtrack and i enjoy video...     115\n",
              "4         1  if you have played the game you know how divin...      79"
            ],
            "text/html": [
              "\n",
              "  <div id=\"df-1a26c90b-5f9d-4f94-8409-54883ae927bb\">\n",
              "    <div class=\"colab-df-container\">\n",
              "      <div>\n",
              "<style scoped>\n",
              "    .dataframe tbody tr th:only-of-type {\n",
              "        vertical-align: middle;\n",
              "    }\n",
              "\n",
              "    .dataframe tbody tr th {\n",
              "        vertical-align: top;\n",
              "    }\n",
              "\n",
              "    .dataframe thead th {\n",
              "        text-align: right;\n",
              "    }\n",
              "</style>\n",
              "<table border=\"1\" class=\"dataframe\">\n",
              "  <thead>\n",
              "    <tr style=\"text-align: right;\">\n",
              "      <th></th>\n",
              "      <th>Polarity</th>\n",
              "      <th>cleaned</th>\n",
              "      <th>Length</th>\n",
              "    </tr>\n",
              "  </thead>\n",
              "  <tbody>\n",
              "    <tr>\n",
              "      <th>0</th>\n",
              "      <td>1</td>\n",
              "      <td>this sound track was beautiful it paints the s...</td>\n",
              "      <td>75</td>\n",
              "    </tr>\n",
              "    <tr>\n",
              "      <th>1</th>\n",
              "      <td>1</td>\n",
              "      <td>i am reading a lot of reviews saying that this...</td>\n",
              "      <td>94</td>\n",
              "    </tr>\n",
              "    <tr>\n",
              "      <th>2</th>\n",
              "      <td>1</td>\n",
              "      <td>this soundtrack is my favorite music of all ti...</td>\n",
              "      <td>129</td>\n",
              "    </tr>\n",
              "    <tr>\n",
              "      <th>3</th>\n",
              "      <td>1</td>\n",
              "      <td>i truly like this soundtrack and i enjoy video...</td>\n",
              "      <td>115</td>\n",
              "    </tr>\n",
              "    <tr>\n",
              "      <th>4</th>\n",
              "      <td>1</td>\n",
              "      <td>if you have played the game you know how divin...</td>\n",
              "      <td>79</td>\n",
              "    </tr>\n",
              "  </tbody>\n",
              "</table>\n",
              "</div>\n",
              "      <button class=\"colab-df-convert\" onclick=\"convertToInteractive('df-1a26c90b-5f9d-4f94-8409-54883ae927bb')\"\n",
              "              title=\"Convert this dataframe to an interactive table.\"\n",
              "              style=\"display:none;\">\n",
              "        \n",
              "  <svg xmlns=\"http://www.w3.org/2000/svg\" height=\"24px\"viewBox=\"0 0 24 24\"\n",
              "       width=\"24px\">\n",
              "    <path d=\"M0 0h24v24H0V0z\" fill=\"none\"/>\n",
              "    <path d=\"M18.56 5.44l.94 2.06.94-2.06 2.06-.94-2.06-.94-.94-2.06-.94 2.06-2.06.94zm-11 1L8.5 8.5l.94-2.06 2.06-.94-2.06-.94L8.5 2.5l-.94 2.06-2.06.94zm10 10l.94 2.06.94-2.06 2.06-.94-2.06-.94-.94-2.06-.94 2.06-2.06.94z\"/><path d=\"M17.41 7.96l-1.37-1.37c-.4-.4-.92-.59-1.43-.59-.52 0-1.04.2-1.43.59L10.3 9.45l-7.72 7.72c-.78.78-.78 2.05 0 2.83L4 21.41c.39.39.9.59 1.41.59.51 0 1.02-.2 1.41-.59l7.78-7.78 2.81-2.81c.8-.78.8-2.07 0-2.86zM5.41 20L4 18.59l7.72-7.72 1.47 1.35L5.41 20z\"/>\n",
              "  </svg>\n",
              "      </button>\n",
              "      \n",
              "  <style>\n",
              "    .colab-df-container {\n",
              "      display:flex;\n",
              "      flex-wrap:wrap;\n",
              "      gap: 12px;\n",
              "    }\n",
              "\n",
              "    .colab-df-convert {\n",
              "      background-color: #E8F0FE;\n",
              "      border: none;\n",
              "      border-radius: 50%;\n",
              "      cursor: pointer;\n",
              "      display: none;\n",
              "      fill: #1967D2;\n",
              "      height: 32px;\n",
              "      padding: 0 0 0 0;\n",
              "      width: 32px;\n",
              "    }\n",
              "\n",
              "    .colab-df-convert:hover {\n",
              "      background-color: #E2EBFA;\n",
              "      box-shadow: 0px 1px 2px rgba(60, 64, 67, 0.3), 0px 1px 3px 1px rgba(60, 64, 67, 0.15);\n",
              "      fill: #174EA6;\n",
              "    }\n",
              "\n",
              "    [theme=dark] .colab-df-convert {\n",
              "      background-color: #3B4455;\n",
              "      fill: #D2E3FC;\n",
              "    }\n",
              "\n",
              "    [theme=dark] .colab-df-convert:hover {\n",
              "      background-color: #434B5C;\n",
              "      box-shadow: 0px 1px 3px 1px rgba(0, 0, 0, 0.15);\n",
              "      filter: drop-shadow(0px 1px 2px rgba(0, 0, 0, 0.3));\n",
              "      fill: #FFFFFF;\n",
              "    }\n",
              "  </style>\n",
              "\n",
              "      <script>\n",
              "        const buttonEl =\n",
              "          document.querySelector('#df-1a26c90b-5f9d-4f94-8409-54883ae927bb button.colab-df-convert');\n",
              "        buttonEl.style.display =\n",
              "          google.colab.kernel.accessAllowed ? 'block' : 'none';\n",
              "\n",
              "        async function convertToInteractive(key) {\n",
              "          const element = document.querySelector('#df-1a26c90b-5f9d-4f94-8409-54883ae927bb');\n",
              "          const dataTable =\n",
              "            await google.colab.kernel.invokeFunction('convertToInteractive',\n",
              "                                                     [key], {});\n",
              "          if (!dataTable) return;\n",
              "\n",
              "          const docLinkHtml = 'Like what you see? Visit the ' +\n",
              "            '<a target=\"_blank\" href=https://colab.research.google.com/notebooks/data_table.ipynb>data table notebook</a>'\n",
              "            + ' to learn more about interactive tables.';\n",
              "          element.innerHTML = '';\n",
              "          dataTable['output_type'] = 'display_data';\n",
              "          await google.colab.output.renderOutput(dataTable, element);\n",
              "          const docLink = document.createElement('div');\n",
              "          docLink.innerHTML = docLinkHtml;\n",
              "          element.appendChild(docLink);\n",
              "        }\n",
              "      </script>\n",
              "    </div>\n",
              "  </div>\n",
              "  "
            ]
          },
          "metadata": {},
          "execution_count": 24
        }
      ]
    },
    {
      "cell_type": "code",
      "source": [
        "data.to_csv('/content/drive/MyDrive/NLP_amazon/train_cleaned.csv',sep=';',index=False)"
      ],
      "metadata": {
        "id": "ftX4EZeDwv4m"
      },
      "execution_count": null,
      "outputs": []
    },
    {
      "cell_type": "code",
      "source": [
        "#end of data filtering,start of selecting groups\n"
      ],
      "metadata": {
        "id": "daXcR8Naz8Zj"
      },
      "execution_count": null,
      "outputs": []
    },
    {
      "cell_type": "code",
      "source": [
        "data=pd.read_csv('/content/drive/MyDrive/NLP_amazon/train_cleaned.csv',sep=';')"
      ],
      "metadata": {
        "id": "vGLba3_B3UFv"
      },
      "execution_count": null,
      "outputs": []
    },
    {
      "cell_type": "code",
      "source": [
        "data=data[data['Length']<=150]"
      ],
      "metadata": {
        "id": "I0KpBSSUz8cA"
      },
      "execution_count": null,
      "outputs": []
    },
    {
      "cell_type": "code",
      "source": [],
      "metadata": {
        "id": "3Y7BOw9iz8eS"
      },
      "execution_count": null,
      "outputs": []
    },
    {
      "cell_type": "code",
      "source": [],
      "metadata": {
        "id": "YdCenXCsz8gw"
      },
      "execution_count": null,
      "outputs": []
    },
    {
      "cell_type": "code",
      "execution_count": null,
      "metadata": {
        "id": "DB8RvVifla_c"
      },
      "outputs": [],
      "source": [
        "lengths=data.Length"
      ]
    },
    {
      "cell_type": "code",
      "source": [
        "from matplotlib import pyplot as plt\n",
        "import numpy as np\n",
        " \n",
        " \n",
        "# Creating dataset\n",
        "\n",
        " \n",
        "# Creating histogram\n",
        "fig, ax = plt.subplots(figsize =(10, 7))\n",
        "ax.hist(lengths, bins = [0, 25, 50, 75, 100,125,150,175,200])\n",
        " \n",
        "# Show plot\n",
        "plt.show()"
      ],
      "metadata": {
        "colab": {
          "base_uri": "https://localhost:8080/",
          "height": 428
        },
        "id": "bkco31MHyr0W",
        "outputId": "695a1936-a6c9-443d-8cf1-422353c41b74"
      },
      "execution_count": null,
      "outputs": [
        {
          "output_type": "display_data",
          "data": {
            "text/plain": [
              "<Figure size 720x504 with 1 Axes>"
            ],
            "image/png": "[encoded data removed]"
          },
          "metadata": {
            "needs_background": "light"
          }
        }
      ]
    },
    {
      "cell_type": "code",
      "source": [
        "def get_mean_diff(a,b):\n",
        "  dis=[]\n",
        "  for i in range(len(a)):\n",
        "    dis.append(abs(a[i]-b[i]))\n",
        "  return np.mean(dis)\n",
        "\n"
      ],
      "metadata": {
        "id": "CSZGVZkU8Vxu"
      },
      "execution_count": null,
      "outputs": []
    },
    {
      "cell_type": "code",
      "source": [
        "#Code for plotting sequence-length category-wise distribution of sentiments.\n",
        "\n",
        "def plot(x):\n",
        "  ranges={}\n",
        "  i=1\n",
        "  while x*i<=150:\n",
        "    ranges[x*i]=[0,0]\n",
        "    i+=1\n",
        "  if x*(i-1)!=150:\n",
        "    ranges[x*i]=[0,0]\n",
        "  for ind,row in data.iterrows():\n",
        "    l=((row[2]//x)+(int(row[2]%10>0 or row[2]<x)))*x\n",
        "    ranges[l][row[0]]+=1\n",
        "  return ranges\n"
      ],
      "metadata": {
        "id": "cRD-cztF7UFV"
      },
      "execution_count": null,
      "outputs": []
    },
    {
      "cell_type": "code",
      "source": [
        "import matplotlib.pyplot as plt\n",
        "import numpy as np\n",
        "\n",
        "def plot_graph(x):\n",
        "  ranges=plot(x)\n",
        "  X=[]\n",
        "  i=1\n",
        "  while x*i<=150:\n",
        "    X.append(str(x*(i-1))+'-'+str(x*i))\n",
        "    i+=1\n",
        "  if x*(i-1)!=150:\n",
        "    X.append(str(x*(i-1))+' and above')\n",
        "  plt.subplots(figsize =(20, 10))\n",
        "  y1=[ranges[x][0] for x in ranges]\n",
        "  y2=[ranges[x][1] for x in ranges]\n",
        "  X_axis = np.arange(len(X))\n",
        "  \n",
        "  plt.bar(X_axis - 0.2, y1, 0.4, label = 'Negative')\n",
        "  plt.bar(X_axis + 0.2, y2, 0.4, label = 'Positive')\n",
        "    \n",
        "  plt.xticks(X_axis, X)\n",
        "  plt.xlabel(\"Groups\")\n",
        "  plt.ylabel(\"Number of Datapoints\")\n",
        "  plt.title(\"Number of positive and negative datapoints in each group\"+str())\n",
        "  plt.legend()\n",
        "  plt.show()\n",
        "  \n",
        "\n",
        "plot_graph(25)\n"
      ],
      "metadata": {
        "id": "lt9ITHGrJsf8",
        "colab": {
          "base_uri": "https://localhost:8080/",
          "height": 621
        },
        "outputId": "874d142b-8333-40e6-cb3d-1e0c4bedbb98"
      },
      "execution_count": null,
      "outputs": [
        {
          "output_type": "display_data",
          "data": {
            "text/plain": [
              "<Figure size 1440x720 with 1 Axes>"
            ],
            "image/png": "[encoded data removed]"
          },
          "metadata": {
            "needs_background": "light"
          }
        }
      ]
    },
    {
      "cell_type": "code",
      "source": [
        "def get_mean_diff(a,b):\n",
        "  t=[]\n",
        "  for i in range(len(a)):\n",
        "    t.append(abs(a[i]-b[i]))\n",
        "  return np.mean(t,axis=0)"
      ],
      "metadata": {
        "id": "MkjN5cjr4McF"
      },
      "execution_count": null,
      "outputs": []
    },
    {
      "cell_type": "code",
      "source": [
        "def get_diff(arr):\n",
        "  diffs=[]\n",
        "  for x in arr:\n",
        "    ranges=plot(x)\n",
        "    X=[]\n",
        "    i=1\n",
        "    while x*i<=150:\n",
        "      X.append(str(x*(i-1))+'-'+str(x*i))\n",
        "      i+=1\n",
        "    if x*(i-1)!=150:\n",
        "      X.append(str(x*(i-1))+' and above')\n",
        "    plt.subplots(figsize =(20, 10))\n",
        "    y1=[ranges[x][0] for x in ranges]\n",
        "    y2=[ranges[x][1] for x in ranges]\n",
        "    y1=np.asarray(y1)\n",
        "    y2=np.asarray(y2)\n",
        "    diffs.append(get_mean_diff(y1,y2))\n",
        "  return diffs\n",
        "  "
      ],
      "metadata": {
        "id": "YUKZrvP0J7T9"
      },
      "execution_count": null,
      "outputs": []
    },
    {
      "cell_type": "code",
      "source": [
        "print(get_diff([10,15,20,25,30]))"
      ],
      "metadata": {
        "colab": {
          "base_uri": "https://localhost:8080/",
          "height": 1000
        },
        "id": "1I6oVQz-Ko1H",
        "outputId": "33134678-ea05-482f-aac2-b90c9752635f"
      },
      "execution_count": null,
      "outputs": [
        {
          "output_type": "stream",
          "name": "stdout",
          "text": [
            "[16112.933333333332, 23915.0, 29061.25, 39565.666666666664, 44872.8]\n"
          ]
        },
        {
          "output_type": "display_data",
          "data": {
            "text/plain": [
              "<Figure size 1440x720 with 1 Axes>"
            ],
            "image/png": "[encoded data removed]"
          },
          "metadata": {
            "needs_background": "light"
          }
        },
        {
          "output_type": "display_data",
          "data": {
            "text/plain": [
              "<Figure size 1440x720 with 1 Axes>"
            ],
            "image/png": "[encoded data removed]"
          },
          "metadata": {
            "needs_background": "light"
          }
        },
        {
          "output_type": "display_data",
          "data": {
            "text/plain": [
              "<Figure size 1440x720 with 1 Axes>"
            ],
            "image/png": "[encoded data removed]"
          },
          "metadata": {
            "needs_background": "light"
          }
        },
        {
          "output_type": "display_data",
          "data": {
            "text/plain": [
              "<Figure size 1440x720 with 1 Axes>"
            ],
            "image/png": "[encoded data removed]"
          },
          "metadata": {
            "needs_background": "light"
          }
        },
        {
          "output_type": "display_data",
          "data": {
            "text/plain": [
              "<Figure size 1440x720 with 1 Axes>"
            ],
            "image/png": "[encoded data removed]"
          },
          "metadata": {
            "needs_background": "light"
          }
        }
      ]
    },
    {
      "cell_type": "code",
      "source": [],
      "metadata": {
        "id": "vvRuhIl_Ks1t"
      },
      "execution_count": null,
      "outputs": []
    }
  ],
  "metadata": {
    "accelerator": "GPU",
    "colab": {
      "provenance": []
    },
    "gpuClass": "standard",
    "kernelspec": {
      "display_name": "Python 3",
      "name": "python3"
    },
    "language_info": {
      "name": "python"
    }
  },
  "nbformat": 4,
  "nbformat_minor": 0
}